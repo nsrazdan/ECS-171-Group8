{
 "cells": [
  {
   "cell_type": "markdown",
   "metadata": {},
   "source": [
    "## Data Processing - ECS171 Project Group 8"
   ]
  },
  {
   "cell_type": "markdown",
   "metadata": {},
   "source": [
    "**Description**: Converts true/false entries to 1/0 and normalizes numerical data"
   ]
  },
  {
   "cell_type": "code",
   "execution_count": 126,
   "metadata": {},
   "outputs": [],
   "source": [
    "import pandas as pd\n",
    "import numpy as np\n",
    "import seaborn as sns\n",
    "import matplotlib.pyplot as plt\n",
    "import math"
   ]
  },
  {
   "cell_type": "code",
   "execution_count": 127,
   "metadata": {},
   "outputs": [],
   "source": [
    "#init dataframe\n",
    "path = 'data/videos oct27-nov1.csv'\n",
    "df = pd.read_csv(path)"
   ]
  },
  {
   "cell_type": "code",
   "execution_count": 128,
   "metadata": {},
   "outputs": [],
   "source": [
    "#drop redundant columns\n",
    "drop_names = ['Unnamed: 0', 'Unnamed: 0.1','Channel_title','Channel_description']\n",
    "df = df.drop(drop_names,axis=1)"
   ]
  },
  {
   "cell_type": "code",
   "execution_count": 129,
   "metadata": {},
   "outputs": [
    {
     "data": {
      "text/html": [
       "<div>\n",
       "<style scoped>\n",
       "    .dataframe tbody tr th:only-of-type {\n",
       "        vertical-align: middle;\n",
       "    }\n",
       "\n",
       "    .dataframe tbody tr th {\n",
       "        vertical-align: top;\n",
       "    }\n",
       "\n",
       "    .dataframe thead th {\n",
       "        text-align: right;\n",
       "    }\n",
       "</style>\n",
       "<table border=\"1\" class=\"dataframe\">\n",
       "  <thead>\n",
       "    <tr style=\"text-align: right;\">\n",
       "      <th></th>\n",
       "      <th>video_id</th>\n",
       "      <th>title</th>\n",
       "      <th>publishedAt</th>\n",
       "      <th>channelId</th>\n",
       "      <th>channelTitle</th>\n",
       "      <th>categoryId</th>\n",
       "      <th>tags</th>\n",
       "      <th>view_count</th>\n",
       "      <th>likes</th>\n",
       "      <th>dislikes</th>\n",
       "      <th>...</th>\n",
       "      <th>comments_disabled</th>\n",
       "      <th>ratings_disabled</th>\n",
       "      <th>description</th>\n",
       "      <th>Channel_viewCount</th>\n",
       "      <th>Channel_subscriberCount</th>\n",
       "      <th>Channel_hiddenSubscriberCount</th>\n",
       "      <th>Channel_videoCount</th>\n",
       "      <th>Channel_publishedAt</th>\n",
       "      <th>Channel_country</th>\n",
       "      <th>trending</th>\n",
       "    </tr>\n",
       "  </thead>\n",
       "  <tbody>\n",
       "    <tr>\n",
       "      <th>0</th>\n",
       "      <td>zgK6RLgzzxU</td>\n",
       "      <td>Is Bar Bhi milaad - Rabi ul Awal Naat 2020 Rao...</td>\n",
       "      <td>2020-10-27T17:03:00Z</td>\n",
       "      <td>UCrlPBBzSmLuf-FS7fN8P3kg</td>\n",
       "      <td>Rao Brothers</td>\n",
       "      <td>22.0</td>\n",
       "      <td>\"[none]\"</td>\n",
       "      <td>143496.0</td>\n",
       "      <td>4006.0</td>\n",
       "      <td>83.0</td>\n",
       "      <td>...</td>\n",
       "      <td>False</td>\n",
       "      <td>False</td>\n",
       "      <td>Artist Rao Brothers Audio Rwds Video Heera Gol...</td>\n",
       "      <td>26066121.0</td>\n",
       "      <td>211000.0</td>\n",
       "      <td>False</td>\n",
       "      <td>288.0</td>\n",
       "      <td>\"2010-09-27T17:02:37Z\"</td>\n",
       "      <td>\"PK\"</td>\n",
       "      <td>0</td>\n",
       "    </tr>\n",
       "    <tr>\n",
       "      <th>1</th>\n",
       "      <td>FNXPVrluAC8</td>\n",
       "      <td>Deborah&amp;#39;s Theme (from &amp;quot;Once Upon a Ti...</td>\n",
       "      <td>2020-10-27T17:01:30Z</td>\n",
       "      <td>UCQAmePE--thWfJkRH7fLOyw</td>\n",
       "      <td>Stjepan Hauser - Topic</td>\n",
       "      <td>10.0</td>\n",
       "      <td>\"HAUSER|Ennio Morricone|エンニオ・モリコーネ|エンニオモリコーネ|顏...</td>\n",
       "      <td>20711.0</td>\n",
       "      <td>241.0</td>\n",
       "      <td>7.0</td>\n",
       "      <td>...</td>\n",
       "      <td>False</td>\n",
       "      <td>False</td>\n",
       "      <td>Provided to YouTube by Sony Classical Deborah'...</td>\n",
       "      <td>282237.0</td>\n",
       "      <td>4540.0</td>\n",
       "      <td>False</td>\n",
       "      <td>39.0</td>\n",
       "      <td>\"2013-12-13T18:16:23Z\"</td>\n",
       "      <td>NaN</td>\n",
       "      <td>0</td>\n",
       "    </tr>\n",
       "    <tr>\n",
       "      <th>2</th>\n",
       "      <td>vxVw3IFnT7w</td>\n",
       "      <td>Malena (from &amp;quot;Malena&amp;quot;)</td>\n",
       "      <td>2020-10-27T17:01:30Z</td>\n",
       "      <td>UCQAmePE--thWfJkRH7fLOyw</td>\n",
       "      <td>Stjepan Hauser - Topic</td>\n",
       "      <td>10.0</td>\n",
       "      <td>\"HAUSER|Ennio Morricone|エンニオ・モリコーネ|エンニオモリコーネ|顏...</td>\n",
       "      <td>2381.0</td>\n",
       "      <td>57.0</td>\n",
       "      <td>3.0</td>\n",
       "      <td>...</td>\n",
       "      <td>False</td>\n",
       "      <td>False</td>\n",
       "      <td>Provided to YouTube by Sony Classical Malena (...</td>\n",
       "      <td>282237.0</td>\n",
       "      <td>4540.0</td>\n",
       "      <td>False</td>\n",
       "      <td>39.0</td>\n",
       "      <td>\"2013-12-13T18:16:23Z\"</td>\n",
       "      <td>NaN</td>\n",
       "      <td>0</td>\n",
       "    </tr>\n",
       "  </tbody>\n",
       "</table>\n",
       "<p>3 rows × 22 columns</p>\n",
       "</div>"
      ],
      "text/plain": [
       "      video_id                                              title  \\\n",
       "0  zgK6RLgzzxU  Is Bar Bhi milaad - Rabi ul Awal Naat 2020 Rao...   \n",
       "1  FNXPVrluAC8  Deborah&#39;s Theme (from &quot;Once Upon a Ti...   \n",
       "2  vxVw3IFnT7w                   Malena (from &quot;Malena&quot;)   \n",
       "\n",
       "            publishedAt                 channelId            channelTitle  \\\n",
       "0  2020-10-27T17:03:00Z  UCrlPBBzSmLuf-FS7fN8P3kg            Rao Brothers   \n",
       "1  2020-10-27T17:01:30Z  UCQAmePE--thWfJkRH7fLOyw  Stjepan Hauser - Topic   \n",
       "2  2020-10-27T17:01:30Z  UCQAmePE--thWfJkRH7fLOyw  Stjepan Hauser - Topic   \n",
       "\n",
       "   categoryId                                               tags  view_count  \\\n",
       "0        22.0                                           \"[none]\"    143496.0   \n",
       "1        10.0  \"HAUSER|Ennio Morricone|エンニオ・モリコーネ|エンニオモリコーネ|顏...     20711.0   \n",
       "2        10.0  \"HAUSER|Ennio Morricone|エンニオ・モリコーネ|エンニオモリコーネ|顏...      2381.0   \n",
       "\n",
       "    likes  dislikes  ...  comments_disabled ratings_disabled  \\\n",
       "0  4006.0      83.0  ...              False            False   \n",
       "1   241.0       7.0  ...              False            False   \n",
       "2    57.0       3.0  ...              False            False   \n",
       "\n",
       "                                         description Channel_viewCount  \\\n",
       "0  Artist Rao Brothers Audio Rwds Video Heera Gol...        26066121.0   \n",
       "1  Provided to YouTube by Sony Classical Deborah'...          282237.0   \n",
       "2  Provided to YouTube by Sony Classical Malena (...          282237.0   \n",
       "\n",
       "  Channel_subscriberCount  Channel_hiddenSubscriberCount  Channel_videoCount  \\\n",
       "0                211000.0                          False               288.0   \n",
       "1                  4540.0                          False                39.0   \n",
       "2                  4540.0                          False                39.0   \n",
       "\n",
       "      Channel_publishedAt  Channel_country trending  \n",
       "0  \"2010-09-27T17:02:37Z\"             \"PK\"        0  \n",
       "1  \"2013-12-13T18:16:23Z\"              NaN        0  \n",
       "2  \"2013-12-13T18:16:23Z\"              NaN        0  \n",
       "\n",
       "[3 rows x 22 columns]"
      ]
     },
     "execution_count": 129,
     "metadata": {},
     "output_type": "execute_result"
    }
   ],
   "source": [
    "#adds target attribute 'trending' with 1 if trend, 0 if not\n",
    "trend_list = []\n",
    "for i in range(0,len(df)):\n",
    "    if math.isnan(df['trending_date'][i]):\n",
    "        trend_list.append(0)\n",
    "    else:\n",
    "        trend_list.append(1)\n",
    "df = df.drop('trending_date',axis=1)\n",
    "df['trending'] = trend_list\n",
    "df.head(3)"
   ]
  },
  {
   "cell_type": "code",
   "execution_count": 130,
   "metadata": {},
   "outputs": [],
   "source": [
    "#normalize (StandardScaler)\n",
    "from sklearn.preprocessing import StandardScaler\n",
    "names_int = ['categoryId','view_count','likes','dislikes','comment_count','Channel_viewCount','Channel_subscriberCount','Channel_videoCount']\n",
    "df[names_int] = StandardScaler().fit_transform(df[names_int])"
   ]
  },
  {
   "cell_type": "code",
   "execution_count": 131,
   "metadata": {},
   "outputs": [],
   "source": [
    "#one hot encode\n",
    "names_category = ['comments_disabled','ratings_disabled','Channel_hiddenSubscriberCount']\n",
    "\n",
    "#ohe columns in 'names', returns new df\n",
    "def ohe(names):\n",
    "    new_df = df.copy()\n",
    "    for name in names:\n",
    "        tmp_df = pd.get_dummies(new_df[name],prefix=name)\n",
    "        loc = new_df.columns.get_loc(name)\n",
    "        \n",
    "        new_df = new_df.drop([name],axis=1)\n",
    "        for item in tmp_df.columns:\n",
    "            new_df.insert(loc,column=item,value=tmp_df[item])\n",
    "            loc += 1\n",
    "            \n",
    "        new_df = new_df.drop([name+'_False'],axis=1)\n",
    "        new_df = new_df.rename(columns={name+'_True':name})\n",
    "    \n",
    "    return new_df\n",
    "\n",
    "#one hot encoded df\n",
    "df = ohe(names_category)"
   ]
  },
  {
   "cell_type": "code",
   "execution_count": 132,
   "metadata": {},
   "outputs": [
    {
     "data": {
      "text/plain": [
       "<matplotlib.axes._subplots.AxesSubplot at 0x13029abe0>"
      ]
     },
     "execution_count": 132,
     "metadata": {},
     "output_type": "execute_result"
    },
    {
     "data": {
      "image/png": "[encoded data removed]",
      "text/plain": [
       "<Figure size 1440x1080 with 2 Axes>"
      ]
     },
     "metadata": {
      "needs_background": "light"
     },
     "output_type": "display_data"
    }
   ],
   "source": [
    "#Plot Data\n",
    "names_num = ['categoryId','view_count','likes','dislikes','comment_count','Channel_viewCount','Channel_subscriberCount','Channel_videoCount','comments_disabled','ratings_disabled','Channel_hiddenSubscriberCount','trending']\n",
    "df_num = df[names_num]\n",
    "plt.subplots(figsize=(20,15))\n",
    "sns.heatmap(df_num.corr())"
   ]
  },
  {
   "cell_type": "code",
   "execution_count": null,
   "metadata": {},
   "outputs": [],
   "source": []
  }
 ],
 "metadata": {
  "kernelspec": {
   "display_name": "Python 3",
   "language": "python",
   "name": "python3"
  },
  "language_info": {
   "codemirror_mode": {
    "name": "ipython",
    "version": 3
   },
   "file_extension": ".py",
   "mimetype": "text/x-python",
   "name": "python",
   "nbconvert_exporter": "python",
   "pygments_lexer": "ipython3",
   "version": "3.8.3"
  }
 },
 "nbformat": 4,
 "nbformat_minor": 4
}
